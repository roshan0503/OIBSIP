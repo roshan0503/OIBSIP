{
  "nbformat": 4,
  "nbformat_minor": 0,
  "metadata": {
    "colab": {
      "provenance": []
    },
    "kernelspec": {
      "name": "python3",
      "display_name": "Python 3"
    },
    "language_info": {
      "name": "python"
    }
  },
  "cells": [
    {
      "cell_type": "code",
      "source": [
        "import pandas as pd\n",
        "import numpy as np\n",
        "from scipy import stats\n"
      ],
      "metadata": {
        "id": "ZEEvleXP6LCu"
      },
      "execution_count": 1,
      "outputs": []
    },
    {
      "cell_type": "markdown",
      "source": [
        "# Load the dataset"
      ],
      "metadata": {
        "id": "cnVYBgQV6zl5"
      }
    },
    {
      "cell_type": "code",
      "source": [
        "df = pd.read_csv('AB_NYC_2019.csv')"
      ],
      "metadata": {
        "id": "r3O3q7416tuq"
      },
      "execution_count": 2,
      "outputs": []
    },
    {
      "cell_type": "markdown",
      "source": [
        "# Initial inspection"
      ],
      "metadata": {
        "id": "m0TUbvmS7O8V"
      }
    },
    {
      "cell_type": "code",
      "source": [
        "print(\"Initial Inspection:\")\n",
        "print(df.head())\n",
        "print(df.info())\n",
        "print(df.describe())"
      ],
      "metadata": {
        "colab": {
          "base_uri": "https://localhost:8080/"
        },
        "id": "aT-LUymv67Hc",
        "outputId": "d75ae63d-4132-406a-8336-a166aa54392e"
      },
      "execution_count": 3,
      "outputs": [
        {
          "output_type": "stream",
          "name": "stdout",
          "text": [
            "Initial Inspection:\n",
            "     id                                              name  host_id  \\\n",
            "0  2539                Clean & quiet apt home by the park     2787   \n",
            "1  2595                             Skylit Midtown Castle     2845   \n",
            "2  3647               THE VILLAGE OF HARLEM....NEW YORK !     4632   \n",
            "3  3831                   Cozy Entire Floor of Brownstone     4869   \n",
            "4  5022  Entire Apt: Spacious Studio/Loft by central park     7192   \n",
            "\n",
            "     host_name neighbourhood_group neighbourhood  latitude  longitude  \\\n",
            "0         John            Brooklyn    Kensington  40.64749  -73.97237   \n",
            "1     Jennifer           Manhattan       Midtown  40.75362  -73.98377   \n",
            "2    Elisabeth           Manhattan        Harlem  40.80902  -73.94190   \n",
            "3  LisaRoxanne            Brooklyn  Clinton Hill  40.68514  -73.95976   \n",
            "4        Laura           Manhattan   East Harlem  40.79851  -73.94399   \n",
            "\n",
            "         room_type  price  minimum_nights  number_of_reviews last_review  \\\n",
            "0     Private room    149               1                  9  2018-10-19   \n",
            "1  Entire home/apt    225               1                 45  2019-05-21   \n",
            "2     Private room    150               3                  0         NaN   \n",
            "3  Entire home/apt     89               1                270  2019-07-05   \n",
            "4  Entire home/apt     80              10                  9  2018-11-19   \n",
            "\n",
            "   reviews_per_month  calculated_host_listings_count  availability_365  \n",
            "0               0.21                               6               365  \n",
            "1               0.38                               2               355  \n",
            "2                NaN                               1               365  \n",
            "3               4.64                               1               194  \n",
            "4               0.10                               1                 0  \n",
            "<class 'pandas.core.frame.DataFrame'>\n",
            "RangeIndex: 48895 entries, 0 to 48894\n",
            "Data columns (total 16 columns):\n",
            " #   Column                          Non-Null Count  Dtype  \n",
            "---  ------                          --------------  -----  \n",
            " 0   id                              48895 non-null  int64  \n",
            " 1   name                            48879 non-null  object \n",
            " 2   host_id                         48895 non-null  int64  \n",
            " 3   host_name                       48874 non-null  object \n",
            " 4   neighbourhood_group             48895 non-null  object \n",
            " 5   neighbourhood                   48895 non-null  object \n",
            " 6   latitude                        48895 non-null  float64\n",
            " 7   longitude                       48895 non-null  float64\n",
            " 8   room_type                       48895 non-null  object \n",
            " 9   price                           48895 non-null  int64  \n",
            " 10  minimum_nights                  48895 non-null  int64  \n",
            " 11  number_of_reviews               48895 non-null  int64  \n",
            " 12  last_review                     38843 non-null  object \n",
            " 13  reviews_per_month               38843 non-null  float64\n",
            " 14  calculated_host_listings_count  48895 non-null  int64  \n",
            " 15  availability_365                48895 non-null  int64  \n",
            "dtypes: float64(3), int64(7), object(6)\n",
            "memory usage: 6.0+ MB\n",
            "None\n",
            "                 id       host_id      latitude     longitude         price  \\\n",
            "count  4.889500e+04  4.889500e+04  48895.000000  48895.000000  48895.000000   \n",
            "mean   1.901714e+07  6.762001e+07     40.728949    -73.952170    152.720687   \n",
            "std    1.098311e+07  7.861097e+07      0.054530      0.046157    240.154170   \n",
            "min    2.539000e+03  2.438000e+03     40.499790    -74.244420      0.000000   \n",
            "25%    9.471945e+06  7.822033e+06     40.690100    -73.983070     69.000000   \n",
            "50%    1.967728e+07  3.079382e+07     40.723070    -73.955680    106.000000   \n",
            "75%    2.915218e+07  1.074344e+08     40.763115    -73.936275    175.000000   \n",
            "max    3.648724e+07  2.743213e+08     40.913060    -73.712990  10000.000000   \n",
            "\n",
            "       minimum_nights  number_of_reviews  reviews_per_month  \\\n",
            "count    48895.000000       48895.000000       38843.000000   \n",
            "mean         7.029962          23.274466           1.373221   \n",
            "std         20.510550          44.550582           1.680442   \n",
            "min          1.000000           0.000000           0.010000   \n",
            "25%          1.000000           1.000000           0.190000   \n",
            "50%          3.000000           5.000000           0.720000   \n",
            "75%          5.000000          24.000000           2.020000   \n",
            "max       1250.000000         629.000000          58.500000   \n",
            "\n",
            "       calculated_host_listings_count  availability_365  \n",
            "count                    48895.000000      48895.000000  \n",
            "mean                         7.143982        112.781327  \n",
            "std                         32.952519        131.622289  \n",
            "min                          1.000000          0.000000  \n",
            "25%                          1.000000          0.000000  \n",
            "50%                          1.000000         45.000000  \n",
            "75%                          2.000000        227.000000  \n",
            "max                        327.000000        365.000000  \n"
          ]
        }
      ]
    },
    {
      "cell_type": "markdown",
      "source": [
        "# Data Integrity: Check for data type inconsistencies"
      ],
      "metadata": {
        "id": "0RTqdnSe7VZx"
      }
    },
    {
      "cell_type": "code",
      "source": [
        "print(\"\\nData Types:\")\n",
        "print(df.dtypes)"
      ],
      "metadata": {
        "colab": {
          "base_uri": "https://localhost:8080/"
        },
        "id": "_MexYdu47RiC",
        "outputId": "47ed307e-f8c6-430f-f37f-879aa57f9ed0"
      },
      "execution_count": 4,
      "outputs": [
        {
          "output_type": "stream",
          "name": "stdout",
          "text": [
            "\n",
            "Data Types:\n",
            "id                                  int64\n",
            "name                               object\n",
            "host_id                             int64\n",
            "host_name                          object\n",
            "neighbourhood_group                object\n",
            "neighbourhood                      object\n",
            "latitude                          float64\n",
            "longitude                         float64\n",
            "room_type                          object\n",
            "price                               int64\n",
            "minimum_nights                      int64\n",
            "number_of_reviews                   int64\n",
            "last_review                        object\n",
            "reviews_per_month                 float64\n",
            "calculated_host_listings_count      int64\n",
            "availability_365                    int64\n",
            "dtype: object\n"
          ]
        }
      ]
    },
    {
      "cell_type": "markdown",
      "source": [
        "# Missing Data Handling"
      ],
      "metadata": {
        "id": "P9xakI7Z7eAN"
      }
    },
    {
      "cell_type": "code",
      "source": [
        "print(\"\\nMissing Values:\")\n",
        "print(df.isnull().sum())"
      ],
      "metadata": {
        "colab": {
          "base_uri": "https://localhost:8080/"
        },
        "id": "zsaIz2v17YSv",
        "outputId": "ad65d7d2-bb74-47ef-a111-9c1531e0c956"
      },
      "execution_count": 5,
      "outputs": [
        {
          "output_type": "stream",
          "name": "stdout",
          "text": [
            "\n",
            "Missing Values:\n",
            "id                                    0\n",
            "name                                 16\n",
            "host_id                               0\n",
            "host_name                            21\n",
            "neighbourhood_group                   0\n",
            "neighbourhood                         0\n",
            "latitude                              0\n",
            "longitude                             0\n",
            "room_type                             0\n",
            "price                                 0\n",
            "minimum_nights                        0\n",
            "number_of_reviews                     0\n",
            "last_review                       10052\n",
            "reviews_per_month                 10052\n",
            "calculated_host_listings_count        0\n",
            "availability_365                      0\n",
            "dtype: int64\n"
          ]
        }
      ]
    },
    {
      "cell_type": "markdown",
      "source": [
        "# Decide on the strategy for missing values"
      ],
      "metadata": {
        "id": "NS2-utRZ7kOB"
      }
    },
    {
      "cell_type": "markdown",
      "source": [
        "For simplicity, we will fill numerical columns with median and categorical columns with mode"
      ],
      "metadata": {
        "id": "o-0eTrdw7nJB"
      }
    },
    {
      "cell_type": "code",
      "source": [
        "for column in df.columns:\n",
        "    if df[column].dtype == 'object':\n",
        "        df[column].fillna(df[column].mode()[0], inplace=True)\n",
        "    else:\n",
        "        df[column].fillna(df[column].median(), inplace=True)\n"
      ],
      "metadata": {
        "id": "Z9Y5xd-57gWx"
      },
      "execution_count": 6,
      "outputs": []
    },
    {
      "cell_type": "code",
      "source": [
        "print(\"\\nMissing Values After Handling:\")\n",
        "print(df.isnull().sum())"
      ],
      "metadata": {
        "colab": {
          "base_uri": "https://localhost:8080/"
        },
        "id": "jI_MmILP7qlR",
        "outputId": "3bd1624c-361b-4db2-e676-50d21cbf913d"
      },
      "execution_count": 7,
      "outputs": [
        {
          "output_type": "stream",
          "name": "stdout",
          "text": [
            "\n",
            "Missing Values After Handling:\n",
            "id                                0\n",
            "name                              0\n",
            "host_id                           0\n",
            "host_name                         0\n",
            "neighbourhood_group               0\n",
            "neighbourhood                     0\n",
            "latitude                          0\n",
            "longitude                         0\n",
            "room_type                         0\n",
            "price                             0\n",
            "minimum_nights                    0\n",
            "number_of_reviews                 0\n",
            "last_review                       0\n",
            "reviews_per_month                 0\n",
            "calculated_host_listings_count    0\n",
            "availability_365                  0\n",
            "dtype: int64\n"
          ]
        }
      ]
    },
    {
      "cell_type": "markdown",
      "source": [
        "# Duplicate Removal"
      ],
      "metadata": {
        "id": "SbvMKo5I7vRm"
      }
    },
    {
      "cell_type": "code",
      "source": [
        "print(\"\\nDuplicates:\")\n",
        "print(df.duplicated().sum())"
      ],
      "metadata": {
        "colab": {
          "base_uri": "https://localhost:8080/"
        },
        "id": "InfpXyXh7s7P",
        "outputId": "9ec0db9a-6cf2-423d-8f52-302308527960"
      },
      "execution_count": 8,
      "outputs": [
        {
          "output_type": "stream",
          "name": "stdout",
          "text": [
            "\n",
            "Duplicates:\n",
            "0\n"
          ]
        }
      ]
    },
    {
      "cell_type": "markdown",
      "source": [
        "# Remove duplicates"
      ],
      "metadata": {
        "id": "qwlHrfgw71c9"
      }
    },
    {
      "cell_type": "code",
      "source": [
        "df.drop_duplicates(inplace=True)\n",
        "print(\"\\nDuplicates After Removal:\")\n",
        "print(df.duplicated().sum())\n"
      ],
      "metadata": {
        "colab": {
          "base_uri": "https://localhost:8080/"
        },
        "id": "SMXtgIzD7x5X",
        "outputId": "c5e73c30-70d5-4395-857b-56f8dff6f5a7"
      },
      "execution_count": 9,
      "outputs": [
        {
          "output_type": "stream",
          "name": "stdout",
          "text": [
            "\n",
            "Duplicates After Removal:\n",
            "0\n"
          ]
        }
      ]
    },
    {
      "cell_type": "markdown",
      "source": [
        "# Standardize string formats"
      ],
      "metadata": {
        "id": "dVOtWeoS79M2"
      }
    },
    {
      "cell_type": "code",
      "source": [
        "string_columns = ['name', 'host_name', 'neighbourhood_group', 'neighbourhood', 'room_type']\n",
        "for column in string_columns:\n",
        "    df[column] = df[column].str.lower().str.strip()\n"
      ],
      "metadata": {
        "id": "KFnHd0cU731N"
      },
      "execution_count": 10,
      "outputs": []
    },
    {
      "cell_type": "markdown",
      "source": [
        "# Outlier Detection"
      ],
      "metadata": {
        "id": "CZcgBv0t8BwV"
      }
    },
    {
      "cell_type": "code",
      "source": [
        "numeric_columns = df.select_dtypes(include=[np.number]).columns\n",
        "z_scores = np.abs(stats.zscore(df[numeric_columns]))\n"
      ],
      "metadata": {
        "id": "y550qOEI7_Zo"
      },
      "execution_count": 11,
      "outputs": []
    },
    {
      "cell_type": "code",
      "source": [
        "outliers = (z_scores > 3).all(axis=1)\n",
        "print(f'\\nOutliers Detected: {outliers.sum()}')\n"
      ],
      "metadata": {
        "colab": {
          "base_uri": "https://localhost:8080/"
        },
        "id": "iU_EnIa98EAz",
        "outputId": "ac1006cf-8391-4730-dae1-3248a9697cbf"
      },
      "execution_count": 12,
      "outputs": [
        {
          "output_type": "stream",
          "name": "stdout",
          "text": [
            "\n",
            "Outliers Detected: 0\n"
          ]
        }
      ]
    },
    {
      "cell_type": "markdown",
      "source": [
        "# Remove outliers"
      ],
      "metadata": {
        "id": "5pKX0ku28I4b"
      }
    },
    {
      "cell_type": "code",
      "source": [
        "df = df[~outliers]"
      ],
      "metadata": {
        "id": "IE_-Yfxj8GGv"
      },
      "execution_count": 13,
      "outputs": []
    },
    {
      "cell_type": "markdown",
      "source": [
        "# Final Review"
      ],
      "metadata": {
        "id": "7eclHmyM8NiL"
      }
    },
    {
      "cell_type": "code",
      "source": [
        "print(\"\\nFinal Review:\")\n",
        "print(df.info())\n",
        "print(df.describe())\n"
      ],
      "metadata": {
        "colab": {
          "base_uri": "https://localhost:8080/"
        },
        "id": "mhU2E92J8LEq",
        "outputId": "4c2e04ad-1774-4523-f714-93c52591d706"
      },
      "execution_count": 14,
      "outputs": [
        {
          "output_type": "stream",
          "name": "stdout",
          "text": [
            "\n",
            "Final Review:\n",
            "<class 'pandas.core.frame.DataFrame'>\n",
            "RangeIndex: 48895 entries, 0 to 48894\n",
            "Data columns (total 16 columns):\n",
            " #   Column                          Non-Null Count  Dtype  \n",
            "---  ------                          --------------  -----  \n",
            " 0   id                              48895 non-null  int64  \n",
            " 1   name                            48895 non-null  object \n",
            " 2   host_id                         48895 non-null  int64  \n",
            " 3   host_name                       48895 non-null  object \n",
            " 4   neighbourhood_group             48895 non-null  object \n",
            " 5   neighbourhood                   48895 non-null  object \n",
            " 6   latitude                        48895 non-null  float64\n",
            " 7   longitude                       48895 non-null  float64\n",
            " 8   room_type                       48895 non-null  object \n",
            " 9   price                           48895 non-null  int64  \n",
            " 10  minimum_nights                  48895 non-null  int64  \n",
            " 11  number_of_reviews               48895 non-null  int64  \n",
            " 12  last_review                     48895 non-null  object \n",
            " 13  reviews_per_month               48895 non-null  float64\n",
            " 14  calculated_host_listings_count  48895 non-null  int64  \n",
            " 15  availability_365                48895 non-null  int64  \n",
            "dtypes: float64(3), int64(7), object(6)\n",
            "memory usage: 6.0+ MB\n",
            "None\n",
            "                 id       host_id      latitude     longitude         price  \\\n",
            "count  4.889500e+04  4.889500e+04  48895.000000  48895.000000  48895.000000   \n",
            "mean   1.901714e+07  6.762001e+07     40.728949    -73.952170    152.720687   \n",
            "std    1.098311e+07  7.861097e+07      0.054530      0.046157    240.154170   \n",
            "min    2.539000e+03  2.438000e+03     40.499790    -74.244420      0.000000   \n",
            "25%    9.471945e+06  7.822033e+06     40.690100    -73.983070     69.000000   \n",
            "50%    1.967728e+07  3.079382e+07     40.723070    -73.955680    106.000000   \n",
            "75%    2.915218e+07  1.074344e+08     40.763115    -73.936275    175.000000   \n",
            "max    3.648724e+07  2.743213e+08     40.913060    -73.712990  10000.000000   \n",
            "\n",
            "       minimum_nights  number_of_reviews  reviews_per_month  \\\n",
            "count    48895.000000       48895.000000       48895.000000   \n",
            "mean         7.029962          23.274466           1.238930   \n",
            "std         20.510550          44.550582           1.520861   \n",
            "min          1.000000           0.000000           0.010000   \n",
            "25%          1.000000           1.000000           0.280000   \n",
            "50%          3.000000           5.000000           0.720000   \n",
            "75%          5.000000          24.000000           1.580000   \n",
            "max       1250.000000         629.000000          58.500000   \n",
            "\n",
            "       calculated_host_listings_count  availability_365  \n",
            "count                    48895.000000      48895.000000  \n",
            "mean                         7.143982        112.781327  \n",
            "std                         32.952519        131.622289  \n",
            "min                          1.000000          0.000000  \n",
            "25%                          1.000000          0.000000  \n",
            "50%                          1.000000         45.000000  \n",
            "75%                          2.000000        227.000000  \n",
            "max                        327.000000        365.000000  \n"
          ]
        }
      ]
    },
    {
      "cell_type": "code",
      "source": [],
      "metadata": {
        "id": "am3m5r-98m4m"
      },
      "execution_count": null,
      "outputs": []
    }
  ]
}